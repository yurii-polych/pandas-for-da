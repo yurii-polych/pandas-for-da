{
 "cells": [
  {
   "cell_type": "markdown",
   "metadata": {
    "id": "1ivPDcc7p8lD"
   },
   "source": [
    "# TASK #1. DEFINE A PANDAS SERIES"
   ]
  },
  {
   "cell_type": "code",
   "metadata": {
    "executionInfo": {
     "elapsed": 2873,
     "status": "ok",
     "timestamp": 1618858274556,
     "user": {
      "displayName": "Stemplicity",
      "photoUrl": "https://lh3.googleusercontent.com/a-/AOh14Gj2vCFt-bD5mPBhUWX0QA6xiBgoXQXtwUm2jgjaCg=s64",
      "userId": "10668071569687886186"
     },
     "user_tz": 240
    },
    "id": "4YdCraz8p_XF",
    "ExecuteTime": {
     "end_time": "2024-11-05T11:46:04.858044Z",
     "start_time": "2024-11-05T11:46:04.543710Z"
    }
   },
   "source": [
    "# Pandas is a data manipulation and analysis tool that is built on Numpy.\n",
    "# Pandas uses a data structure known as DataFrame (think of it as Microsoft excel in Python). \n",
    "# DataFrames empower programmers to store and manipulate data in a tabular fashion (rows and columns).\n",
    "# Series Vs. DataFrame? Series is considered a single column of a DataFrame.\n",
    "import pandas as pd\n"
   ],
   "outputs": [],
   "execution_count": 1
  },
  {
   "cell_type": "code",
   "metadata": {
    "colab": {
     "base_uri": "https://localhost:8080/"
    },
    "executionInfo": {
     "elapsed": 2854,
     "status": "ok",
     "timestamp": 1618858274558,
     "user": {
      "displayName": "Stemplicity",
      "photoUrl": "https://lh3.googleusercontent.com/a-/AOh14Gj2vCFt-bD5mPBhUWX0QA6xiBgoXQXtwUm2jgjaCg=s64",
      "userId": "10668071569687886186"
     },
     "user_tz": 240
    },
    "id": "SA9m0RD3K2TF",
    "outputId": "26cc61d4-5858-4a5f-e1b8-e8b7dce26b31",
    "ExecuteTime": {
     "end_time": "2024-11-05T11:46:15.622051Z",
     "start_time": "2024-11-05T11:46:15.619907Z"
    }
   },
   "source": [
    "# Let's define a Python list that contains 5 crypto currencies \n",
    "crypto_list = [\"BTC\", \"XRP\", \"LTC\", \"ADA\", \"ETH\",]\n"
   ],
   "outputs": [],
   "execution_count": 2
  },
  {
   "cell_type": "code",
   "metadata": {
    "colab": {
     "base_uri": "https://localhost:8080/"
    },
    "executionInfo": {
     "elapsed": 2842,
     "status": "ok",
     "timestamp": 1618858274558,
     "user": {
      "displayName": "Stemplicity",
      "photoUrl": "https://lh3.googleusercontent.com/a-/AOh14Gj2vCFt-bD5mPBhUWX0QA6xiBgoXQXtwUm2jgjaCg=s64",
      "userId": "10668071569687886186"
     },
     "user_tz": 240
    },
    "id": "G-fooAckNafC",
    "outputId": "dedb005a-3e3a-4e3f-a9e3-f9a0fb91948a",
    "scrolled": true,
    "ExecuteTime": {
     "end_time": "2024-11-05T11:46:25.191836Z",
     "start_time": "2024-11-05T11:46:25.187254Z"
    }
   },
   "source": [
    "# Let's confirm the Datatype\n",
    "type(crypto_list)\n"
   ],
   "outputs": [
    {
     "data": {
      "text/plain": [
       "list"
      ]
     },
     "execution_count": 3,
     "metadata": {},
     "output_type": "execute_result"
    }
   ],
   "execution_count": 3
  },
  {
   "cell_type": "code",
   "metadata": {
    "colab": {
     "base_uri": "https://localhost:8080/"
    },
    "executionInfo": {
     "elapsed": 2831,
     "status": "ok",
     "timestamp": 1618858274559,
     "user": {
      "displayName": "Stemplicity",
      "photoUrl": "https://lh3.googleusercontent.com/a-/AOh14Gj2vCFt-bD5mPBhUWX0QA6xiBgoXQXtwUm2jgjaCg=s64",
      "userId": "10668071569687886186"
     },
     "user_tz": 240
    },
    "id": "hle4zw51K6-P",
    "outputId": "6cd50b46-ecce-41ad-c688-ca3a662d3d5c",
    "ExecuteTime": {
     "end_time": "2024-11-05T11:46:57.571134Z",
     "start_time": "2024-11-05T11:46:57.565633Z"
    }
   },
   "source": [
    "# Let's create a one dimensional Pandas \"series\" \n",
    "# Let's use Pandas Constructor Method to create a series from a Python list\n",
    "# Note that series is formed of data and associated index (numeric index has been automatically generated) \n",
    "# Check Pandas Documentation for More information: https://pandas.pydata.org/pandas-docs/stable/reference/api/pandas.Series.html#pandas.Series\n",
    "# Object datatype is used for text data (String)\n",
    "crypto_series = pd.Series(data=crypto_list)\n",
    "crypto_series\n"
   ],
   "outputs": [
    {
     "data": {
      "text/plain": [
       "0    BTC\n",
       "1    XRP\n",
       "2    LTC\n",
       "3    ADA\n",
       "4    ETH\n",
       "dtype: object"
      ]
     },
     "execution_count": 4,
     "metadata": {},
     "output_type": "execute_result"
    }
   ],
   "execution_count": 4
  },
  {
   "cell_type": "code",
   "metadata": {
    "colab": {
     "base_uri": "https://localhost:8080/"
    },
    "executionInfo": {
     "elapsed": 2818,
     "status": "ok",
     "timestamp": 1618858274559,
     "user": {
      "displayName": "Stemplicity",
      "photoUrl": "https://lh3.googleusercontent.com/a-/AOh14Gj2vCFt-bD5mPBhUWX0QA6xiBgoXQXtwUm2jgjaCg=s64",
      "userId": "10668071569687886186"
     },
     "user_tz": 240
    },
    "id": "-HNCtPcoNUyf",
    "outputId": "de6ed879-617b-454d-e792-7a7cb300b903",
    "ExecuteTime": {
     "end_time": "2024-11-05T11:47:16.278793Z",
     "start_time": "2024-11-05T11:47:16.275277Z"
    }
   },
   "source": [
    "# Let's confirm the Pandas Series Datatype\n",
    "type(crypto_series)\n"
   ],
   "outputs": [
    {
     "data": {
      "text/plain": [
       "pandas.core.series.Series"
      ]
     },
     "execution_count": 5,
     "metadata": {},
     "output_type": "execute_result"
    }
   ],
   "execution_count": 5
  },
  {
   "cell_type": "code",
   "metadata": {
    "colab": {
     "base_uri": "https://localhost:8080/"
    },
    "executionInfo": {
     "elapsed": 2806,
     "status": "ok",
     "timestamp": 1618858274560,
     "user": {
      "displayName": "Stemplicity",
      "photoUrl": "https://lh3.googleusercontent.com/a-/AOh14Gj2vCFt-bD5mPBhUWX0QA6xiBgoXQXtwUm2jgjaCg=s64",
      "userId": "10668071569687886186"
     },
     "user_tz": 240
    },
    "id": "LB2J-qw5LdQI",
    "outputId": "b094c6c0-9091-4998-9cfe-01c00ac51933",
    "ExecuteTime": {
     "end_time": "2024-11-05T11:47:36.965364Z",
     "start_time": "2024-11-05T11:47:36.961973Z"
    }
   },
   "source": [
    "# Let's define another Pandas Series that contains numeric values (crypto prices) instead of text data\n",
    "# Note that we have int64 datatype which means it's integer stored in 64 bits in memory\n",
    "crypto_prices_series = pd.Series(data=[2000, 500, 2000, 20, 50])\n",
    "crypto_prices_series\n"
   ],
   "outputs": [
    {
     "data": {
      "text/plain": [
       "0    2000\n",
       "1     500\n",
       "2    2000\n",
       "3      20\n",
       "4      50\n",
       "dtype: int64"
      ]
     },
     "execution_count": 6,
     "metadata": {},
     "output_type": "execute_result"
    }
   ],
   "execution_count": 6
  },
  {
   "cell_type": "markdown",
   "metadata": {
    "id": "8C0UN46KIntM"
   },
   "source": [
    "**MINI CHALLENGE #1:**\n",
    "- **Define a Pandas Series named \"my_series\" that contains your top 3 favourite stocks. Confirm the datatype of \"my_series\"**"
   ]
  },
  {
   "cell_type": "code",
   "metadata": {
    "executionInfo": {
     "elapsed": 2804,
     "status": "ok",
     "timestamp": 1618858274560,
     "user": {
      "displayName": "Stemplicity",
      "photoUrl": "https://lh3.googleusercontent.com/a-/AOh14Gj2vCFt-bD5mPBhUWX0QA6xiBgoXQXtwUm2jgjaCg=s64",
      "userId": "10668071569687886186"
     },
     "user_tz": 240
    },
    "id": "l2aMAKvpJyWH",
    "ExecuteTime": {
     "end_time": "2024-11-05T11:48:26.233652Z",
     "start_time": "2024-11-05T11:48:26.229692Z"
    }
   },
   "source": [
    "favourite_stocks = [\"IBM\", \"Nvidia\", \"Microsoft\"]\n",
    "my_series = pd.Series(data=favourite_stocks)\n",
    "my_series\n"
   ],
   "outputs": [
    {
     "data": {
      "text/plain": [
       "0          IBM\n",
       "1       Nvidia\n",
       "2    Microsoft\n",
       "dtype: object"
      ]
     },
     "execution_count": 7,
     "metadata": {},
     "output_type": "execute_result"
    }
   ],
   "execution_count": 7
  },
  {
   "cell_type": "code",
   "metadata": {
    "ExecuteTime": {
     "end_time": "2024-11-05T11:48:38.923432Z",
     "start_time": "2024-11-05T11:48:38.919708Z"
    }
   },
   "source": "type(my_series)",
   "outputs": [
    {
     "data": {
      "text/plain": [
       "pandas.core.series.Series"
      ]
     },
     "execution_count": 8,
     "metadata": {},
     "output_type": "execute_result"
    }
   ],
   "execution_count": 8
  },
  {
   "cell_type": "markdown",
   "metadata": {
    "id": "XN92TgiQOD7I"
   },
   "source": [
    "# TASK #2. DEFINE A PANDAS SERIES WITH CUSTOM INDEX"
   ]
  },
  {
   "cell_type": "code",
   "metadata": {
    "colab": {
     "base_uri": "https://localhost:8080/"
    },
    "executionInfo": {
     "elapsed": 2793,
     "status": "ok",
     "timestamp": 1618858274561,
     "user": {
      "displayName": "Stemplicity",
      "photoUrl": "https://lh3.googleusercontent.com/a-/AOh14Gj2vCFt-bD5mPBhUWX0QA6xiBgoXQXtwUm2jgjaCg=s64",
      "userId": "10668071569687886186"
     },
     "user_tz": 240
    },
    "id": "K4Y9jVx1OaN4",
    "outputId": "bb27d7de-b628-4d2e-d514-b372f8028f3c",
    "ExecuteTime": {
     "end_time": "2024-11-05T11:55:08.437670Z",
     "start_time": "2024-11-05T11:55:08.434058Z"
    }
   },
   "source": [
    "# Let's define a Python list that contains 5 Crypto currencies\n",
    "crypto_list = [\"BTC\", \"XRP\", \"LTC\", \"ADA\", \"ETH\",]\n",
    "crypto_list\n"
   ],
   "outputs": [
    {
     "data": {
      "text/plain": [
       "['BTC', 'XRP', 'LTC', 'ADA', 'ETH']"
      ]
     },
     "execution_count": 9,
     "metadata": {},
     "output_type": "execute_result"
    }
   ],
   "execution_count": 9
  },
  {
   "cell_type": "code",
   "metadata": {
    "colab": {
     "base_uri": "https://localhost:8080/"
    },
    "executionInfo": {
     "elapsed": 2782,
     "status": "ok",
     "timestamp": 1618858274561,
     "user": {
      "displayName": "Stemplicity",
      "photoUrl": "https://lh3.googleusercontent.com/a-/AOh14Gj2vCFt-bD5mPBhUWX0QA6xiBgoXQXtwUm2jgjaCg=s64",
      "userId": "10668071569687886186"
     },
     "user_tz": 240
    },
    "id": "ZSxdgs_xJvxx",
    "outputId": "6236c8f5-d62a-4ef9-9f12-8df4561ea8eb",
    "ExecuteTime": {
     "end_time": "2024-11-05T11:55:22.606682Z",
     "start_time": "2024-11-05T11:55:22.603701Z"
    }
   },
   "source": [
    "# Let's define a python list as shown below. This python list will be used for the Series index:\n",
    "crypto_labels = [\"crypto#1\", \"crypto#2\", \"crypto#3\", \"crypto#4\", \"crypto#5\"]\n",
    "crypto_labels\n"
   ],
   "outputs": [
    {
     "data": {
      "text/plain": [
       "['crypto#1', 'crypto#2', 'crypto#3', 'crypto#4', 'crypto#5']"
      ]
     },
     "execution_count": 10,
     "metadata": {},
     "output_type": "execute_result"
    }
   ],
   "execution_count": 10
  },
  {
   "cell_type": "code",
   "metadata": {
    "executionInfo": {
     "elapsed": 2780,
     "status": "ok",
     "timestamp": 1618858274562,
     "user": {
      "displayName": "Stemplicity",
      "photoUrl": "https://lh3.googleusercontent.com/a-/AOh14Gj2vCFt-bD5mPBhUWX0QA6xiBgoXQXtwUm2jgjaCg=s64",
      "userId": "10668071569687886186"
     },
     "user_tz": 240
    },
    "id": "U4Fq06XwqX9v",
    "ExecuteTime": {
     "end_time": "2024-11-05T11:55:45.356907Z",
     "start_time": "2024-11-05T11:55:45.354113Z"
    }
   },
   "source": [
    "# Let's create a one dimensional Pandas \"series\" \n",
    "# Let's use Pandas Constructor Method to create a series from a Python list\n",
    "# Note that this series is formed of data and associated labels \n",
    "crypto_series = pd.Series(data=crypto_list, index=crypto_labels)\n"
   ],
   "outputs": [],
   "execution_count": 11
  },
  {
   "cell_type": "code",
   "metadata": {
    "colab": {
     "base_uri": "https://localhost:8080/"
    },
    "executionInfo": {
     "elapsed": 3263,
     "status": "ok",
     "timestamp": 1618858275058,
     "user": {
      "displayName": "Stemplicity",
      "photoUrl": "https://lh3.googleusercontent.com/a-/AOh14Gj2vCFt-bD5mPBhUWX0QA6xiBgoXQXtwUm2jgjaCg=s64",
      "userId": "10668071569687886186"
     },
     "user_tz": 240
    },
    "id": "YhPzprisqX_8",
    "outputId": "bbc1914a-67a3-4226-9827-da1657710c5d",
    "ExecuteTime": {
     "end_time": "2024-11-05T11:56:00.336183Z",
     "start_time": "2024-11-05T11:56:00.332008Z"
    }
   },
   "source": [
    "# Let's view the series\n",
    "crypto_series"
   ],
   "outputs": [
    {
     "data": {
      "text/plain": [
       "crypto#1    BTC\n",
       "crypto#2    XRP\n",
       "crypto#3    LTC\n",
       "crypto#4    ADA\n",
       "crypto#5    ETH\n",
       "dtype: object"
      ]
     },
     "execution_count": 12,
     "metadata": {},
     "output_type": "execute_result"
    }
   ],
   "execution_count": 12
  },
  {
   "cell_type": "code",
   "metadata": {
    "colab": {
     "base_uri": "https://localhost:8080/"
    },
    "executionInfo": {
     "elapsed": 3251,
     "status": "ok",
     "timestamp": 1618858275058,
     "user": {
      "displayName": "Stemplicity",
      "photoUrl": "https://lh3.googleusercontent.com/a-/AOh14Gj2vCFt-bD5mPBhUWX0QA6xiBgoXQXtwUm2jgjaCg=s64",
      "userId": "10668071569687886186"
     },
     "user_tz": 240
    },
    "id": "4LPwMO8fsvi1",
    "outputId": "1d1a2f35-2932-49f3-e4b0-e6176c34d1a8",
    "ExecuteTime": {
     "end_time": "2024-11-05T11:56:13.193209Z",
     "start_time": "2024-11-05T11:56:13.190108Z"
    }
   },
   "source": [
    "# Let's obtain the datatype\n",
    "type(crypto_series)\n"
   ],
   "outputs": [
    {
     "data": {
      "text/plain": [
       "pandas.core.series.Series"
      ]
     },
     "execution_count": 13,
     "metadata": {},
     "output_type": "execute_result"
    }
   ],
   "execution_count": 13
  },
  {
   "cell_type": "markdown",
   "metadata": {
    "id": "13icipAKL4W5"
   },
   "source": [
    "**MINI CHALLENGE #2:**\n",
    "- **Define a Pandas Series named \"my_series\" that contains your top 3 favourite stocks. Instead of using default numeric indexes (similar to mini challenge #1), use the following indexes \"stock #1\", \"stock #2\", and \"stock #3\"**"
   ]
  },
  {
   "cell_type": "code",
   "metadata": {
    "executionInfo": {
     "elapsed": 3249,
     "status": "ok",
     "timestamp": 1618858275059,
     "user": {
      "displayName": "Stemplicity",
      "photoUrl": "https://lh3.googleusercontent.com/a-/AOh14Gj2vCFt-bD5mPBhUWX0QA6xiBgoXQXtwUm2jgjaCg=s64",
      "userId": "10668071569687886186"
     },
     "user_tz": 240
    },
    "id": "NZBRmbbuL8OC",
    "ExecuteTime": {
     "end_time": "2024-11-05T11:56:27.431824Z",
     "start_time": "2024-11-05T11:56:27.427189Z"
    }
   },
   "source": [
    "favourite_stocks = [\"IBM\", \"Nvidia\", \"Microsoft\"]\n",
    "stocks_labels = [\"stock#1\", \"stock#2\", \"stock#3\"]\n",
    "my_series = pd.Series(data=favourite_stocks, index=stocks_labels)\n",
    "my_series\n"
   ],
   "outputs": [
    {
     "data": {
      "text/plain": [
       "stock#1          IBM\n",
       "stock#2       Nvidia\n",
       "stock#3    Microsoft\n",
       "dtype: object"
      ]
     },
     "execution_count": 14,
     "metadata": {},
     "output_type": "execute_result"
    }
   ],
   "execution_count": 14
  },
  {
   "cell_type": "markdown",
   "metadata": {
    "id": "96EH6h9SQYW1"
   },
   "source": [
    "# TASK #3. DEFINE A PANDAS SERIES FROM A DICTIONARY"
   ]
  },
  {
   "cell_type": "code",
   "metadata": {
    "executionInfo": {
     "elapsed": 3247,
     "status": "ok",
     "timestamp": 1618858275060,
     "user": {
      "displayName": "Stemplicity",
      "photoUrl": "https://lh3.googleusercontent.com/a-/AOh14Gj2vCFt-bD5mPBhUWX0QA6xiBgoXQXtwUm2jgjaCg=s64",
      "userId": "10668071569687886186"
     },
     "user_tz": 240
    },
    "id": "fk9R_fZlML_y",
    "ExecuteTime": {
     "end_time": "2024-11-05T12:04:08.869155Z",
     "start_time": "2024-11-05T12:04:08.866387Z"
    }
   },
   "source": [
    "# A Dictionary consists of a collection of key-value pairs. Each key-value pair maps the key to its corresponding value.\n",
    "# Keys are unique within a dictionary while values may not be. \n",
    "# List elements are accessed by their position in the list, via indexing while Dictionary elements are accessed via keys\n",
    "# Define a dictionary named \"my_dict\" using key-value pairs\n",
    "my_dict = {\"Employee ID\": 1,\n",
    "          \"Employee Name\": \"Steve\",\n",
    "          \"Salary $\": 2000,\n",
    "          \"Years with Company\": 10}\n"
   ],
   "outputs": [],
   "execution_count": 15
  },
  {
   "cell_type": "code",
   "metadata": {
    "colab": {
     "base_uri": "https://localhost:8080/"
    },
    "executionInfo": {
     "elapsed": 3235,
     "status": "ok",
     "timestamp": 1618858275060,
     "user": {
      "displayName": "Stemplicity",
      "photoUrl": "https://lh3.googleusercontent.com/a-/AOh14Gj2vCFt-bD5mPBhUWX0QA6xiBgoXQXtwUm2jgjaCg=s64",
      "userId": "10668071569687886186"
     },
     "user_tz": 240
    },
    "id": "BlHhf-YPQdrB",
    "outputId": "8b32d4de-c0e0-4399-a67a-b90d33b99dd0",
    "ExecuteTime": {
     "end_time": "2024-11-05T12:04:17.518868Z",
     "start_time": "2024-11-05T12:04:17.515741Z"
    }
   },
   "source": [
    "# Show the dictionary\n",
    "my_dict\n"
   ],
   "outputs": [
    {
     "data": {
      "text/plain": [
       "{'Employee ID': 1,\n",
       " 'Employee Name': 'Steve',\n",
       " 'Salary $': 2000,\n",
       " 'Years with Company': 10}"
      ]
     },
     "execution_count": 16,
     "metadata": {},
     "output_type": "execute_result"
    }
   ],
   "execution_count": 16
  },
  {
   "cell_type": "code",
   "metadata": {
    "colab": {
     "base_uri": "https://localhost:8080/"
    },
    "executionInfo": {
     "elapsed": 3223,
     "status": "ok",
     "timestamp": 1618858275061,
     "user": {
      "displayName": "Stemplicity",
      "photoUrl": "https://lh3.googleusercontent.com/a-/AOh14Gj2vCFt-bD5mPBhUWX0QA6xiBgoXQXtwUm2jgjaCg=s64",
      "userId": "10668071569687886186"
     },
     "user_tz": 240
    },
    "id": "0b4KQo3JMcI0",
    "outputId": "0223f43e-a5a1-4759-96db-357481a582ab",
    "ExecuteTime": {
     "end_time": "2024-11-05T12:04:31.301678Z",
     "start_time": "2024-11-05T12:04:31.298446Z"
    }
   },
   "source": [
    "# Confirm the dictionary datatype\n",
    "type(my_dict)\n"
   ],
   "outputs": [
    {
     "data": {
      "text/plain": [
       "dict"
      ]
     },
     "execution_count": 17,
     "metadata": {},
     "output_type": "execute_result"
    }
   ],
   "execution_count": 17
  },
  {
   "cell_type": "code",
   "metadata": {
    "colab": {
     "base_uri": "https://localhost:8080/"
    },
    "executionInfo": {
     "elapsed": 3212,
     "status": "ok",
     "timestamp": 1618858275061,
     "user": {
      "displayName": "Stemplicity",
      "photoUrl": "https://lh3.googleusercontent.com/a-/AOh14Gj2vCFt-bD5mPBhUWX0QA6xiBgoXQXtwUm2jgjaCg=s64",
      "userId": "10668071569687886186"
     },
     "user_tz": 240
    },
    "id": "LeH27Q4aQeXe",
    "outputId": "e7e8c45a-7c15-4975-dc3f-d04526840b0e",
    "ExecuteTime": {
     "end_time": "2024-11-05T12:04:45.995853Z",
     "start_time": "2024-11-05T12:04:45.991963Z"
    }
   },
   "source": [
    "# Let's define a Pandas Series Using the dictionary\n",
    "employee_series = pd.Series(my_dict)\n",
    "employee_series\n"
   ],
   "outputs": [
    {
     "data": {
      "text/plain": [
       "Employee ID               1\n",
       "Employee Name         Steve\n",
       "Salary $               2000\n",
       "Years with Company       10\n",
       "dtype: object"
      ]
     },
     "execution_count": 18,
     "metadata": {},
     "output_type": "execute_result"
    }
   ],
   "execution_count": 18
  },
  {
   "cell_type": "markdown",
   "metadata": {
    "id": "_Tk4kxlLNI85"
   },
   "source": [
    "**MINI CHALLENGE #3:**\n",
    "- **Create a Pandas Series from a dictionary with 3 of your favourite stocks and their corresponding prices** "
   ]
  },
  {
   "cell_type": "code",
   "metadata": {
    "executionInfo": {
     "elapsed": 3211,
     "status": "ok",
     "timestamp": 1618858275062,
     "user": {
      "displayName": "Stemplicity",
      "photoUrl": "https://lh3.googleusercontent.com/a-/AOh14Gj2vCFt-bD5mPBhUWX0QA6xiBgoXQXtwUm2jgjaCg=s64",
      "userId": "10668071569687886186"
     },
     "user_tz": 240
    },
    "id": "nlG7J4oKNLuY",
    "ExecuteTime": {
     "end_time": "2024-11-05T12:05:04.678786Z",
     "start_time": "2024-11-05T12:05:04.673699Z"
    }
   },
   "source": [
    "favourite_stocks_dict = {\"IBM\": 200, \"Nvidia\": 2100, \"Microsoft\": 950}\n",
    "stocks_series = pd.Series(favourite_stocks_dict)\n",
    "stocks_series\n"
   ],
   "outputs": [
    {
     "data": {
      "text/plain": [
       "IBM           200\n",
       "Nvidia       2100\n",
       "Microsoft     950\n",
       "dtype: int64"
      ]
     },
     "execution_count": 19,
     "metadata": {},
     "output_type": "execute_result"
    }
   ],
   "execution_count": 19
  },
  {
   "cell_type": "markdown",
   "metadata": {
    "id": "VGlb7t7WRIR3"
   },
   "source": [
    "# TASK #4. PANDAS ATTRIBUTES"
   ]
  },
  {
   "cell_type": "code",
   "metadata": {
    "colab": {
     "base_uri": "https://localhost:8080/"
    },
    "executionInfo": {
     "elapsed": 3200,
     "status": "ok",
     "timestamp": 1618858275063,
     "user": {
      "displayName": "Stemplicity",
      "photoUrl": "https://lh3.googleusercontent.com/a-/AOh14Gj2vCFt-bD5mPBhUWX0QA6xiBgoXQXtwUm2jgjaCg=s64",
      "userId": "10668071569687886186"
     },
     "user_tz": 240
    },
    "id": "p4FauWQlRRD8",
    "outputId": "e4886437-037a-4c0d-d101-4ae420394a55",
    "ExecuteTime": {
     "end_time": "2024-11-05T12:05:55.711351Z",
     "start_time": "2024-11-05T12:05:55.706188Z"
    }
   },
   "source": [
    "# Attributes/Properties: do not use parantheses \"()\" and are used to get Pandas Series Properties. Ex: my_series.values, my_series.shape\n",
    "# Methods: use parantheses \"()\" and might include arguments and they actually alter/change the Pandas Series. Ex: my_series.tail(), my_series.head(), my_series.drop_duplicates()\n",
    "# Indexers: use square brackets \"[]\" and are used to access specific elements in a Pandas Series or DataFrame. Ex: my_series.loc[], my_series.iloc[]\n",
    "\n",
    "# Let's redefine a Pandas Series containing our favourite 5 cryptos \n",
    "crypto_list = [\"BTC\", \"XRP\", \"LTC\", \"ADA\", \"ETH\",]\n",
    "crypto_series = pd.Series(data=crypto_list)\n",
    "crypto_series\n"
   ],
   "outputs": [
    {
     "data": {
      "text/plain": [
       "0    BTC\n",
       "1    XRP\n",
       "2    LTC\n",
       "3    ADA\n",
       "4    ETH\n",
       "dtype: object"
      ]
     },
     "execution_count": 20,
     "metadata": {},
     "output_type": "execute_result"
    }
   ],
   "execution_count": 20
  },
  {
   "cell_type": "code",
   "metadata": {
    "colab": {
     "base_uri": "https://localhost:8080/"
    },
    "executionInfo": {
     "elapsed": 3191,
     "status": "ok",
     "timestamp": 1618858275063,
     "user": {
      "displayName": "Stemplicity",
      "photoUrl": "https://lh3.googleusercontent.com/a-/AOh14Gj2vCFt-bD5mPBhUWX0QA6xiBgoXQXtwUm2jgjaCg=s64",
      "userId": "10668071569687886186"
     },
     "user_tz": 240
    },
    "id": "KBgZI_vHQeeA",
    "outputId": "15e55866-6ba6-4092-d147-ebd9ea3db158",
    "ExecuteTime": {
     "end_time": "2024-11-05T12:06:12.214256Z",
     "start_time": "2024-11-05T12:06:12.210075Z"
    }
   },
   "source": [
    "# \".Values\" attribute is used to return Series as ndarray depending on its dtype\n",
    "# Check this for more information: https://pandas.pydata.org/docs/reference/api/pandas.Series.values.html#pandas.Series.values\n",
    "crypto_series.values\n"
   ],
   "outputs": [
    {
     "data": {
      "text/plain": [
       "array(['BTC', 'XRP', 'LTC', 'ADA', 'ETH'], dtype=object)"
      ]
     },
     "execution_count": 21,
     "metadata": {},
     "output_type": "execute_result"
    }
   ],
   "execution_count": 21
  },
  {
   "cell_type": "code",
   "metadata": {
    "colab": {
     "base_uri": "https://localhost:8080/"
    },
    "executionInfo": {
     "elapsed": 3181,
     "status": "ok",
     "timestamp": 1618858275064,
     "user": {
      "displayName": "Stemplicity",
      "photoUrl": "https://lh3.googleusercontent.com/a-/AOh14Gj2vCFt-bD5mPBhUWX0QA6xiBgoXQXtwUm2jgjaCg=s64",
      "userId": "10668071569687886186"
     },
     "user_tz": 240
    },
    "id": "YDunyBEQRtoJ",
    "outputId": "b871c285-8973-4076-9c77-61898c193f42",
    "ExecuteTime": {
     "end_time": "2024-11-05T12:06:27.334745Z",
     "start_time": "2024-11-05T12:06:27.331497Z"
    }
   },
   "source": [
    "# index is used to return the index (axis labels) of the Series\n",
    "crypto_series.index\n"
   ],
   "outputs": [
    {
     "data": {
      "text/plain": [
       "RangeIndex(start=0, stop=5, step=1)"
      ]
     },
     "execution_count": 22,
     "metadata": {},
     "output_type": "execute_result"
    }
   ],
   "execution_count": 22
  },
  {
   "cell_type": "code",
   "metadata": {
    "colab": {
     "base_uri": "https://localhost:8080/"
    },
    "executionInfo": {
     "elapsed": 3171,
     "status": "ok",
     "timestamp": 1618858275065,
     "user": {
      "displayName": "Stemplicity",
      "photoUrl": "https://lh3.googleusercontent.com/a-/AOh14Gj2vCFt-bD5mPBhUWX0QA6xiBgoXQXtwUm2jgjaCg=s64",
      "userId": "10668071569687886186"
     },
     "user_tz": 240
    },
    "id": "7bgfGfQaSrqw",
    "outputId": "1500e3b0-a9da-4d61-cbe2-fdf8fe296a1e",
    "ExecuteTime": {
     "end_time": "2024-11-05T12:06:39.586470Z",
     "start_time": "2024-11-05T12:06:39.583166Z"
    }
   },
   "source": [
    "# dtype is used to return the datatype of the Series ('O' stands for 'object' datatype)\n",
    "crypto_series.dtype"
   ],
   "outputs": [
    {
     "data": {
      "text/plain": [
       "dtype('O')"
      ]
     },
     "execution_count": 23,
     "metadata": {},
     "output_type": "execute_result"
    }
   ],
   "execution_count": 23
  },
  {
   "cell_type": "code",
   "metadata": {
    "colab": {
     "base_uri": "https://localhost:8080/"
    },
    "executionInfo": {
     "elapsed": 3154,
     "status": "ok",
     "timestamp": 1618858275066,
     "user": {
      "displayName": "Stemplicity",
      "photoUrl": "https://lh3.googleusercontent.com/a-/AOh14Gj2vCFt-bD5mPBhUWX0QA6xiBgoXQXtwUm2jgjaCg=s64",
      "userId": "10668071569687886186"
     },
     "user_tz": 240
    },
    "id": "XeQtP9v2dxzu",
    "outputId": "6689f7de-159f-48d3-9abf-bba1c6f6b198",
    "ExecuteTime": {
     "end_time": "2024-11-05T12:06:55.175975Z",
     "start_time": "2024-11-05T12:06:55.172673Z"
    }
   },
   "source": [
    "# Check if all elements are unique or not\n",
    "crypto_series.is_unique\n"
   ],
   "outputs": [
    {
     "data": {
      "text/plain": [
       "True"
      ]
     },
     "execution_count": 24,
     "metadata": {},
     "output_type": "execute_result"
    }
   ],
   "execution_count": 24
  },
  {
   "cell_type": "code",
   "metadata": {
    "colab": {
     "base_uri": "https://localhost:8080/"
    },
    "executionInfo": {
     "elapsed": 3133,
     "status": "ok",
     "timestamp": 1618858275066,
     "user": {
      "displayName": "Stemplicity",
      "photoUrl": "https://lh3.googleusercontent.com/a-/AOh14Gj2vCFt-bD5mPBhUWX0QA6xiBgoXQXtwUm2jgjaCg=s64",
      "userId": "10668071569687886186"
     },
     "user_tz": 240
    },
    "id": "8VWnKVh0d7Kw",
    "outputId": "dca8b133-a9c1-432d-ed9d-9f9056224e62",
    "ExecuteTime": {
     "end_time": "2024-11-05T12:07:07.373969Z",
     "start_time": "2024-11-05T12:07:07.370496Z"
    }
   },
   "source": [
    "# Check the shape of the Series\n",
    "# note that a Series is one dimensional\n",
    "crypto_series.shape\n"
   ],
   "outputs": [
    {
     "data": {
      "text/plain": [
       "(5,)"
      ]
     },
     "execution_count": 25,
     "metadata": {},
     "output_type": "execute_result"
    }
   ],
   "execution_count": 25
  },
  {
   "cell_type": "markdown",
   "metadata": {
    "id": "gPL7KbA3XGr1"
   },
   "source": [
    "**MINI CHALLENGE #4:** \n",
    "- **What is the size of the Pandas Series? (External Research for the proper attribute is Required)**"
   ]
  },
  {
   "cell_type": "code",
   "metadata": {
    "executionInfo": {
     "elapsed": 3132,
     "status": "ok",
     "timestamp": 1618858275067,
     "user": {
      "displayName": "Stemplicity",
      "photoUrl": "https://lh3.googleusercontent.com/a-/AOh14Gj2vCFt-bD5mPBhUWX0QA6xiBgoXQXtwUm2jgjaCg=s64",
      "userId": "10668071569687886186"
     },
     "user_tz": 240
    },
    "id": "SyfddtryXbmX",
    "ExecuteTime": {
     "end_time": "2024-11-05T12:07:19.044820Z",
     "start_time": "2024-11-05T12:07:19.041910Z"
    }
   },
   "source": "crypto_series.size\n",
   "outputs": [
    {
     "data": {
      "text/plain": [
       "5"
      ]
     },
     "execution_count": 26,
     "metadata": {},
     "output_type": "execute_result"
    }
   ],
   "execution_count": 26
  },
  {
   "cell_type": "markdown",
   "metadata": {
    "id": "Qc7sVau-UtYt"
   },
   "source": [
    "# TASK #5. PANDAS METHODS"
   ]
  },
  {
   "cell_type": "code",
   "metadata": {
    "colab": {
     "base_uri": "https://localhost:8080/"
    },
    "executionInfo": {
     "elapsed": 3125,
     "status": "ok",
     "timestamp": 1618858275068,
     "user": {
      "displayName": "Stemplicity",
      "photoUrl": "https://lh3.googleusercontent.com/a-/AOh14Gj2vCFt-bD5mPBhUWX0QA6xiBgoXQXtwUm2jgjaCg=s64",
      "userId": "10668071569687886186"
     },
     "user_tz": 240
    },
    "id": "5gwWM4VvUxI2",
    "outputId": "7cb2d91b-0317-4708-9140-053a2ac721c2",
    "ExecuteTime": {
     "end_time": "2024-11-05T12:07:59.619630Z",
     "start_time": "2024-11-05T12:07:59.615641Z"
    }
   },
   "source": [
    "# Methods have parentheses and they actually alter/change the Pandas Series\n",
    "# Methods: use parantheses \"()\" and might include arguments. Ex: my_series.tail(), my_series.head(), my_series.drop_duplicates()\n",
    "\n",
    "# Let's define another Pandas Series that contains numeric values (crypto prices) instead of text data\n",
    "# Note that we have int64 datatype which means it contains integer values stored in 64 bits in memory\n",
    "crypto_prices = pd.Series(data=[400, 500, 1500, 20, 70])\n",
    "crypto_prices\n"
   ],
   "outputs": [
    {
     "data": {
      "text/plain": [
       "0     400\n",
       "1     500\n",
       "2    1500\n",
       "3      20\n",
       "4      70\n",
       "dtype: int64"
      ]
     },
     "execution_count": 27,
     "metadata": {},
     "output_type": "execute_result"
    }
   ],
   "execution_count": 27
  },
  {
   "cell_type": "code",
   "metadata": {
    "colab": {
     "base_uri": "https://localhost:8080/"
    },
    "executionInfo": {
     "elapsed": 3116,
     "status": "ok",
     "timestamp": 1618858275069,
     "user": {
      "displayName": "Stemplicity",
      "photoUrl": "https://lh3.googleusercontent.com/a-/AOh14Gj2vCFt-bD5mPBhUWX0QA6xiBgoXQXtwUm2jgjaCg=s64",
      "userId": "10668071569687886186"
     },
     "user_tz": 240
    },
    "id": "ImwFgVASUxLa",
    "outputId": "9f7b7f3b-b8fb-4ebf-e224-fa7c43197d3f",
    "ExecuteTime": {
     "end_time": "2024-11-05T12:08:17.203975Z",
     "start_time": "2024-11-05T12:08:17.199729Z"
    }
   },
   "source": [
    "# Let's obtain the sum of all elements in the Pandas Series\n",
    "crypto_prices.sum()\n"
   ],
   "outputs": [
    {
     "data": {
      "text/plain": [
       "2490"
      ]
     },
     "execution_count": 28,
     "metadata": {},
     "output_type": "execute_result"
    }
   ],
   "execution_count": 28
  },
  {
   "cell_type": "code",
   "metadata": {
    "colab": {
     "base_uri": "https://localhost:8080/"
    },
    "executionInfo": {
     "elapsed": 3100,
     "status": "ok",
     "timestamp": 1618858275071,
     "user": {
      "displayName": "Stemplicity",
      "photoUrl": "https://lh3.googleusercontent.com/a-/AOh14Gj2vCFt-bD5mPBhUWX0QA6xiBgoXQXtwUm2jgjaCg=s64",
      "userId": "10668071569687886186"
     },
     "user_tz": 240
    },
    "id": "OLa69YwxUxOa",
    "outputId": "158234c1-4535-45b8-ae26-677f57238f08",
    "ExecuteTime": {
     "end_time": "2024-11-05T12:08:28.682379Z",
     "start_time": "2024-11-05T12:08:28.678777Z"
    }
   },
   "source": [
    "# Let's obtain the multiplication of all elements in the Pandas Series\n",
    "crypto_prices.product()\n"
   ],
   "outputs": [
    {
     "data": {
      "text/plain": [
       "420000000000"
      ]
     },
     "execution_count": 29,
     "metadata": {},
     "output_type": "execute_result"
    }
   ],
   "execution_count": 29
  },
  {
   "cell_type": "code",
   "metadata": {
    "colab": {
     "base_uri": "https://localhost:8080/"
    },
    "executionInfo": {
     "elapsed": 3079,
     "status": "ok",
     "timestamp": 1618858275072,
     "user": {
      "displayName": "Stemplicity",
      "photoUrl": "https://lh3.googleusercontent.com/a-/AOh14Gj2vCFt-bD5mPBhUWX0QA6xiBgoXQXtwUm2jgjaCg=s64",
      "userId": "10668071569687886186"
     },
     "user_tz": 240
    },
    "id": "xVMJtbtkUxQ-",
    "outputId": "650e2e87-2838-460a-98ae-09d1eb01cdcb",
    "ExecuteTime": {
     "end_time": "2024-11-05T12:08:43.628448Z",
     "start_time": "2024-11-05T12:08:43.624806Z"
    }
   },
   "source": [
    "# Let's obtain the average\n",
    "crypto_prices.mean()\n"
   ],
   "outputs": [
    {
     "data": {
      "text/plain": [
       "498.0"
      ]
     },
     "execution_count": 30,
     "metadata": {},
     "output_type": "execute_result"
    }
   ],
   "execution_count": 30
  },
  {
   "cell_type": "code",
   "metadata": {
    "colab": {
     "base_uri": "https://localhost:8080/"
    },
    "executionInfo": {
     "elapsed": 3069,
     "status": "ok",
     "timestamp": 1618858275073,
     "user": {
      "displayName": "Stemplicity",
      "photoUrl": "https://lh3.googleusercontent.com/a-/AOh14Gj2vCFt-bD5mPBhUWX0QA6xiBgoXQXtwUm2jgjaCg=s64",
      "userId": "10668071569687886186"
     },
     "user_tz": 240
    },
    "id": "FgqSFr98YTUw",
    "outputId": "afaf3e7b-b5c1-4d1c-b99d-dd1bc9af90e3",
    "ExecuteTime": {
     "end_time": "2024-11-05T12:09:35.891927Z",
     "start_time": "2024-11-05T12:09:35.888035Z"
    }
   },
   "source": [
    "# Let's show the first couple of elements in the Pandas Series\n",
    "crypto_prices.head(2)\n"
   ],
   "outputs": [
    {
     "data": {
      "text/plain": [
       "0    400\n",
       "1    500\n",
       "dtype: int64"
      ]
     },
     "execution_count": 32,
     "metadata": {},
     "output_type": "execute_result"
    }
   ],
   "execution_count": 32
  },
  {
   "cell_type": "code",
   "metadata": {
    "colab": {
     "base_uri": "https://localhost:8080/"
    },
    "executionInfo": {
     "elapsed": 3070,
     "status": "ok",
     "timestamp": 1618858275083,
     "user": {
      "displayName": "Stemplicity",
      "photoUrl": "https://lh3.googleusercontent.com/a-/AOh14Gj2vCFt-bD5mPBhUWX0QA6xiBgoXQXtwUm2jgjaCg=s64",
      "userId": "10668071569687886186"
     },
     "user_tz": 240
    },
    "id": "GFoxw41LZrBs",
    "outputId": "3aefbee8-0c98-44f4-a0b1-fd3b8a08899e",
    "ExecuteTime": {
     "end_time": "2024-11-05T12:09:41.162Z",
     "start_time": "2024-11-05T12:09:41.157569Z"
    }
   },
   "source": [
    "# Note that head creates a new dataframe \n",
    "new_crypto_prices = crypto_prices.head(3)\n",
    "new_crypto_prices\n"
   ],
   "outputs": [
    {
     "data": {
      "text/plain": [
       "0     400\n",
       "1     500\n",
       "2    1500\n",
       "dtype: int64"
      ]
     },
     "execution_count": 33,
     "metadata": {},
     "output_type": "execute_result"
    }
   ],
   "execution_count": 33
  },
  {
   "cell_type": "markdown",
   "metadata": {
    "id": "DHknLT4PTrjn"
   },
   "source": [
    "**MINI CHALLENGE #5:** \n",
    "- **Show the last 2 rows in the Pandas Series (External Research is Required)** \n",
    "- **How many bytes does this Pandas Series consume in memory? (External Research is Required)**"
   ]
  },
  {
   "cell_type": "code",
   "metadata": {
    "colab": {
     "base_uri": "https://localhost:8080/"
    },
    "executionInfo": {
     "elapsed": 3063,
     "status": "ok",
     "timestamp": 1618858275085,
     "user": {
      "displayName": "Stemplicity",
      "photoUrl": "https://lh3.googleusercontent.com/a-/AOh14Gj2vCFt-bD5mPBhUWX0QA6xiBgoXQXtwUm2jgjaCg=s64",
      "userId": "10668071569687886186"
     },
     "user_tz": 240
    },
    "id": "UUiOynSPSshX",
    "outputId": "a3eb0c0b-1456-40aa-8fa6-2303e8396fad",
    "ExecuteTime": {
     "end_time": "2024-11-05T12:10:05.277762Z",
     "start_time": "2024-11-05T12:10:05.273621Z"
    }
   },
   "source": "crypto_prices.tail(2)\n",
   "outputs": [
    {
     "data": {
      "text/plain": [
       "3    20\n",
       "4    70\n",
       "dtype: int64"
      ]
     },
     "execution_count": 34,
     "metadata": {},
     "output_type": "execute_result"
    }
   ],
   "execution_count": 34
  },
  {
   "cell_type": "code",
   "metadata": {
    "ExecuteTime": {
     "end_time": "2024-11-05T12:10:15.631404Z",
     "start_time": "2024-11-05T12:10:15.626913Z"
    }
   },
   "source": "crypto_series.memory_usage()\n",
   "outputs": [
    {
     "data": {
      "text/plain": [
       "172"
      ]
     },
     "execution_count": 35,
     "metadata": {},
     "output_type": "execute_result"
    }
   ],
   "execution_count": 35
  },
  {
   "cell_type": "markdown",
   "metadata": {
    "id": "vzu3jPDbasz5"
   },
   "source": [
    "# TASK #6. IMPORT CSV DATA (1-D) USING PANDAS"
   ]
  },
  {
   "cell_type": "code",
   "execution_count": 34,
   "metadata": {
    "colab": {
     "base_uri": "https://localhost:8080/",
     "height": 404
    },
    "executionInfo": {
     "elapsed": 3588,
     "status": "error",
     "timestamp": 1618858275613,
     "user": {
      "displayName": "Stemplicity",
      "photoUrl": "https://lh3.googleusercontent.com/a-/AOh14Gj2vCFt-bD5mPBhUWX0QA6xiBgoXQXtwUm2jgjaCg=s64",
      "userId": "10668071569687886186"
     },
     "user_tz": 240
    },
    "id": "zLiVpmH2asz6",
    "outputId": "165b683c-727d-4eee-aab4-be8aee65801c"
   },
   "outputs": [],
   "source": [
    "# Pandas read_csv is used to read a csv file and store data in a DataFrame by default (DataFrames will be covered shortly!)\n",
    "# Use Squeeze to convert it into a Pandas Series (One-dimensional)\n",
    "# Notice that no foramtting exists when a Series is plotted"
   ]
  },
  {
   "cell_type": "code",
   "execution_count": 35,
   "metadata": {
    "executionInfo": {
     "elapsed": 3511,
     "status": "aborted",
     "timestamp": 1618858275545,
     "user": {
      "displayName": "Stemplicity",
      "photoUrl": "https://lh3.googleusercontent.com/a-/AOh14Gj2vCFt-bD5mPBhUWX0QA6xiBgoXQXtwUm2jgjaCg=s64",
      "userId": "10668071569687886186"
     },
     "user_tz": 240
    },
    "id": "Py1fYuPFasz6"
   },
   "outputs": [
    {
     "data": {
      "text/plain": [
       "0         457.334015\n",
       "1         424.440002\n",
       "2         394.795990\n",
       "3         408.903992\n",
       "4         398.821014\n",
       "            ...     \n",
       "2380    55950.746090\n",
       "2381    57750.199220\n",
       "2382    58917.691410\n",
       "2383    58918.832030\n",
       "2384    59095.808590\n",
       "Name: BTC-USD Price, Length: 2385, dtype: float64"
      ]
     },
     "execution_count": 35,
     "metadata": {},
     "output_type": "execute_result"
    }
   ],
   "source": ""
  },
  {
   "cell_type": "markdown",
   "metadata": {
    "id": "CykEEAr9S--X"
   },
   "source": [
    "**MINI CHALLENGE #6:**\n",
    "- **Set Squeeze = False and rerun the cell, what do you notice? Use Type to compare both outputs**"
   ]
  },
  {
   "cell_type": "code",
   "execution_count": 36,
   "metadata": {
    "executionInfo": {
     "elapsed": 3511,
     "status": "aborted",
     "timestamp": 1618858275547,
     "user": {
      "displayName": "Stemplicity",
      "photoUrl": "https://lh3.googleusercontent.com/a-/AOh14Gj2vCFt-bD5mPBhUWX0QA6xiBgoXQXtwUm2jgjaCg=s64",
      "userId": "10668071569687886186"
     },
     "user_tz": 240
    },
    "id": "DVEio_JnTArn"
   },
   "outputs": [
    {
     "data": {
      "text/html": [
       "<div>\n",
       "<style scoped>\n",
       "    .dataframe tbody tr th:only-of-type {\n",
       "        vertical-align: middle;\n",
       "    }\n",
       "\n",
       "    .dataframe tbody tr th {\n",
       "        vertical-align: top;\n",
       "    }\n",
       "\n",
       "    .dataframe thead th {\n",
       "        text-align: right;\n",
       "    }\n",
       "</style>\n",
       "<table border=\"1\" class=\"dataframe\">\n",
       "  <thead>\n",
       "    <tr style=\"text-align: right;\">\n",
       "      <th></th>\n",
       "      <th>BTC-USD Price</th>\n",
       "    </tr>\n",
       "  </thead>\n",
       "  <tbody>\n",
       "    <tr>\n",
       "      <th>0</th>\n",
       "      <td>457.334015</td>\n",
       "    </tr>\n",
       "    <tr>\n",
       "      <th>1</th>\n",
       "      <td>424.440002</td>\n",
       "    </tr>\n",
       "    <tr>\n",
       "      <th>2</th>\n",
       "      <td>394.795990</td>\n",
       "    </tr>\n",
       "    <tr>\n",
       "      <th>3</th>\n",
       "      <td>408.903992</td>\n",
       "    </tr>\n",
       "    <tr>\n",
       "      <th>4</th>\n",
       "      <td>398.821014</td>\n",
       "    </tr>\n",
       "    <tr>\n",
       "      <th>...</th>\n",
       "      <td>...</td>\n",
       "    </tr>\n",
       "    <tr>\n",
       "      <th>2380</th>\n",
       "      <td>55950.746090</td>\n",
       "    </tr>\n",
       "    <tr>\n",
       "      <th>2381</th>\n",
       "      <td>57750.199220</td>\n",
       "    </tr>\n",
       "    <tr>\n",
       "      <th>2382</th>\n",
       "      <td>58917.691410</td>\n",
       "    </tr>\n",
       "    <tr>\n",
       "      <th>2383</th>\n",
       "      <td>58918.832030</td>\n",
       "    </tr>\n",
       "    <tr>\n",
       "      <th>2384</th>\n",
       "      <td>59095.808590</td>\n",
       "    </tr>\n",
       "  </tbody>\n",
       "</table>\n",
       "<p>2385 rows × 1 columns</p>\n",
       "</div>"
      ],
      "text/plain": [
       "      BTC-USD Price\n",
       "0        457.334015\n",
       "1        424.440002\n",
       "2        394.795990\n",
       "3        408.903992\n",
       "4        398.821014\n",
       "...             ...\n",
       "2380   55950.746090\n",
       "2381   57750.199220\n",
       "2382   58917.691410\n",
       "2383   58918.832030\n",
       "2384   59095.808590\n",
       "\n",
       "[2385 rows x 1 columns]"
      ]
     },
     "execution_count": 36,
     "metadata": {},
     "output_type": "execute_result"
    }
   ],
   "source": ""
  },
  {
   "cell_type": "code",
   "execution_count": 37,
   "metadata": {},
   "outputs": [
    {
     "name": "stdout",
     "output_type": "stream",
     "text": [
      "BTC_price_series type: <class 'pandas.core.series.Series'>\n",
      "BTC_price_df type: <class 'pandas.core.frame.DataFrame'>\n"
     ]
    }
   ],
   "source": ""
  },
  {
   "cell_type": "markdown",
   "metadata": {
    "id": "8HBGOWjKaK_i"
   },
   "source": [
    "# TASK #7. PANDAS BUILT-IN FUNCTIONS"
   ]
  },
  {
   "cell_type": "code",
   "execution_count": 38,
   "metadata": {
    "executionInfo": {
     "elapsed": 3510,
     "status": "aborted",
     "timestamp": 1618858275548,
     "user": {
      "displayName": "Stemplicity",
      "photoUrl": "https://lh3.googleusercontent.com/a-/AOh14Gj2vCFt-bD5mPBhUWX0QA6xiBgoXQXtwUm2jgjaCg=s64",
      "userId": "10668071569687886186"
     },
     "user_tz": 240
    },
    "id": "-Q-1iWEqaP6y"
   },
   "outputs": [
    {
     "data": {
      "text/plain": [
       "0         457.334015\n",
       "1         424.440002\n",
       "2         394.795990\n",
       "3         408.903992\n",
       "4         398.821014\n",
       "            ...     \n",
       "2380    55950.746090\n",
       "2381    57750.199220\n",
       "2382    58917.691410\n",
       "2383    58918.832030\n",
       "2384    59095.808590\n",
       "Name: BTC-USD Price, Length: 2385, dtype: float64"
      ]
     },
     "execution_count": 38,
     "metadata": {},
     "output_type": "execute_result"
    }
   ],
   "source": [
    "# Pandas works great with pre-existing python functions \n",
    "# You don't have to play with pandas methods and directly leverage Python functions\n",
    "# Check Python built-in functions here: https://docs.python.org/3/library/functions.html"
   ]
  },
  {
   "cell_type": "code",
   "execution_count": 39,
   "metadata": {
    "executionInfo": {
     "elapsed": 3503,
     "status": "aborted",
     "timestamp": 1618858275549,
     "user": {
      "displayName": "Stemplicity",
      "photoUrl": "https://lh3.googleusercontent.com/a-/AOh14Gj2vCFt-bD5mPBhUWX0QA6xiBgoXQXtwUm2jgjaCg=s64",
      "userId": "10668071569687886186"
     },
     "user_tz": 240
    },
    "id": "g759k2IPdVH-"
   },
   "outputs": [
    {
     "data": {
      "text/plain": [
       "pandas.core.series.Series"
      ]
     },
     "execution_count": 39,
     "metadata": {},
     "output_type": "execute_result"
    }
   ],
   "source": "# Obtain the Data Type of the Pandas Series"
  },
  {
   "cell_type": "code",
   "execution_count": 40,
   "metadata": {
    "executionInfo": {
     "elapsed": 3472,
     "status": "aborted",
     "timestamp": 1618858275550,
     "user": {
      "displayName": "Stemplicity",
      "photoUrl": "https://lh3.googleusercontent.com/a-/AOh14Gj2vCFt-bD5mPBhUWX0QA6xiBgoXQXtwUm2jgjaCg=s64",
      "userId": "10668071569687886186"
     },
     "user_tz": 240
    },
    "id": "NbKysqrSaQ32"
   },
   "outputs": [
    {
     "data": {
      "text/plain": [
       "2385"
      ]
     },
     "execution_count": 40,
     "metadata": {},
     "output_type": "execute_result"
    }
   ],
   "source": "# Obtain the length of the Pandas Series"
  },
  {
   "cell_type": "code",
   "execution_count": 41,
   "metadata": {
    "executionInfo": {
     "elapsed": 3457,
     "status": "aborted",
     "timestamp": 1618858275551,
     "user": {
      "displayName": "Stemplicity",
      "photoUrl": "https://lh3.googleusercontent.com/a-/AOh14Gj2vCFt-bD5mPBhUWX0QA6xiBgoXQXtwUm2jgjaCg=s64",
      "userId": "10668071569687886186"
     },
     "user_tz": 240
    },
    "id": "FeeA8actaQ6P"
   },
   "outputs": [
    {
     "data": {
      "text/plain": [
       "61243.08594"
      ]
     },
     "execution_count": 41,
     "metadata": {},
     "output_type": "execute_result"
    }
   ],
   "source": "# Obtain the maximum value of the Pandas Series"
  },
  {
   "cell_type": "code",
   "execution_count": 42,
   "metadata": {
    "executionInfo": {
     "elapsed": 3469,
     "status": "aborted",
     "timestamp": 1618858275574,
     "user": {
      "displayName": "Stemplicity",
      "photoUrl": "https://lh3.googleusercontent.com/a-/AOh14Gj2vCFt-bD5mPBhUWX0QA6xiBgoXQXtwUm2jgjaCg=s64",
      "userId": "10668071569687886186"
     },
     "user_tz": 240
    },
    "id": "fyhw96-JaQ8a"
   },
   "outputs": [
    {
     "data": {
      "text/plain": [
       "178.1029968"
      ]
     },
     "execution_count": 42,
     "metadata": {},
     "output_type": "execute_result"
    }
   ],
   "source": "# Obtain the minimum value of the Pandas Series"
  },
  {
   "cell_type": "markdown",
   "metadata": {
    "id": "NCnRK6oMVCtg"
   },
   "source": [
    "**MINI CHALLENGE #7:**\n",
    "- **Given the following Pandas Series, convert all positive values to negative using python built-in functions**\n",
    "- **Obtain only unique values (ie: Remove duplicates) using python built-in functions**\n",
    "- my_series = pd.Series(data = [-10, 100, -30, 50, 100])\n"
   ]
  },
  {
   "cell_type": "code",
   "execution_count": 50,
   "metadata": {
    "executionInfo": {
     "elapsed": 3467,
     "status": "aborted",
     "timestamp": 1618858275574,
     "user": {
      "displayName": "Stemplicity",
      "photoUrl": "https://lh3.googleusercontent.com/a-/AOh14Gj2vCFt-bD5mPBhUWX0QA6xiBgoXQXtwUm2jgjaCg=s64",
      "userId": "10668071569687886186"
     },
     "user_tz": 240
    },
    "id": "DG-Tjp6PVEpW"
   },
   "outputs": [
    {
     "data": {
      "text/plain": [
       "0     10\n",
       "1    100\n",
       "2    -30\n",
       "3     50\n",
       "4    100\n",
       "dtype: int64"
      ]
     },
     "execution_count": 50,
     "metadata": {},
     "output_type": "execute_result"
    }
   ],
   "source": ""
  },
  {
   "cell_type": "code",
   "execution_count": 53,
   "metadata": {},
   "outputs": [
    {
     "data": {
      "text/plain": [
       "0    -10\n",
       "1   -100\n",
       "2    -30\n",
       "3    -50\n",
       "4   -100\n",
       "dtype: int64"
      ]
     },
     "execution_count": 53,
     "metadata": {},
     "output_type": "execute_result"
    }
   ],
   "source": "# Convert all positive values to negative"
  },
  {
   "cell_type": "code",
   "execution_count": 54,
   "metadata": {},
   "outputs": [
    {
     "data": {
      "text/plain": [
       "{-30, 10, 50, 100}"
      ]
     },
     "execution_count": 54,
     "metadata": {},
     "output_type": "execute_result"
    }
   ],
   "source": ""
  },
  {
   "cell_type": "markdown",
   "metadata": {
    "id": "LKDuJ94RvB85"
   },
   "source": [
    "# TASK #8. SORTING PANDAS SERIES"
   ]
  },
  {
   "cell_type": "code",
   "execution_count": 55,
   "metadata": {
    "executionInfo": {
     "elapsed": 3456,
     "status": "aborted",
     "timestamp": 1618858275575,
     "user": {
      "displayName": "Stemplicity",
      "photoUrl": "https://lh3.googleusercontent.com/a-/AOh14Gj2vCFt-bD5mPBhUWX0QA6xiBgoXQXtwUm2jgjaCg=s64",
      "userId": "10668071569687886186"
     },
     "user_tz": 240
    },
    "id": "f-aRTmn9u7DA"
   },
   "outputs": [
    {
     "data": {
      "text/plain": [
       "0         457.334015\n",
       "1         424.440002\n",
       "2         394.795990\n",
       "3         408.903992\n",
       "4         398.821014\n",
       "            ...     \n",
       "2380    55950.746090\n",
       "2381    57750.199220\n",
       "2382    58917.691410\n",
       "2383    58918.832030\n",
       "2384    59095.808590\n",
       "Name: BTC-USD Price, Length: 2385, dtype: float64"
      ]
     },
     "execution_count": 55,
     "metadata": {},
     "output_type": "execute_result"
    }
   ],
   "source": "# Let's import CSV data as follows:"
  },
  {
   "cell_type": "code",
   "execution_count": 56,
   "metadata": {
    "executionInfo": {
     "elapsed": 3446,
     "status": "aborted",
     "timestamp": 1618858275575,
     "user": {
      "displayName": "Stemplicity",
      "photoUrl": "https://lh3.googleusercontent.com/a-/AOh14Gj2vCFt-bD5mPBhUWX0QA6xiBgoXQXtwUm2jgjaCg=s64",
      "userId": "10668071569687886186"
     },
     "user_tz": 240
    },
    "id": "DaglhPNevFYC"
   },
   "outputs": [
    {
     "data": {
      "text/plain": [
       "119       178.102997\n",
       "122       199.259995\n",
       "121       208.097000\n",
       "120       209.843994\n",
       "123       210.339004\n",
       "            ...     \n",
       "2382    58917.691410\n",
       "2383    58918.832030\n",
       "2384    59095.808590\n",
       "2366    59302.316410\n",
       "2365    61243.085940\n",
       "Name: BTC-USD Price, Length: 2385, dtype: float64"
      ]
     },
     "execution_count": 56,
     "metadata": {},
     "output_type": "execute_result"
    }
   ],
   "source": "# You can sort the values in the dataframe as follows"
  },
  {
   "cell_type": "code",
   "execution_count": 57,
   "metadata": {
    "executionInfo": {
     "elapsed": 3438,
     "status": "aborted",
     "timestamp": 1618858275576,
     "user": {
      "displayName": "Stemplicity",
      "photoUrl": "https://lh3.googleusercontent.com/a-/AOh14Gj2vCFt-bD5mPBhUWX0QA6xiBgoXQXtwUm2jgjaCg=s64",
      "userId": "10668071569687886186"
     },
     "user_tz": 240
    },
    "id": "AjzLtDlevFaW"
   },
   "outputs": [
    {
     "data": {
      "text/plain": [
       "0         457.334015\n",
       "1         424.440002\n",
       "2         394.795990\n",
       "3         408.903992\n",
       "4         398.821014\n",
       "            ...     \n",
       "2380    55950.746090\n",
       "2381    57750.199220\n",
       "2382    58917.691410\n",
       "2383    58918.832030\n",
       "2384    59095.808590\n",
       "Name: BTC-USD Price, Length: 2385, dtype: float64"
      ]
     },
     "execution_count": 57,
     "metadata": {},
     "output_type": "execute_result"
    }
   ],
   "source": "# Let's view Pandas Series again after sorting, Note that nothing changed in memory! you have to make sure that inplace is set to True"
  },
  {
   "cell_type": "code",
   "execution_count": 58,
   "metadata": {
    "executionInfo": {
     "elapsed": 3436,
     "status": "aborted",
     "timestamp": 1618858275576,
     "user": {
      "displayName": "Stemplicity",
      "photoUrl": "https://lh3.googleusercontent.com/a-/AOh14Gj2vCFt-bD5mPBhUWX0QA6xiBgoXQXtwUm2jgjaCg=s64",
      "userId": "10668071569687886186"
     },
     "user_tz": 240
    },
    "id": "Pgt25eXmvFce"
   },
   "outputs": [],
   "source": "# Set inplace = True to ensure that change has taken place in memory "
  },
  {
   "cell_type": "code",
   "execution_count": 59,
   "metadata": {
    "executionInfo": {
     "elapsed": 3426,
     "status": "aborted",
     "timestamp": 1618858275577,
     "user": {
      "displayName": "Stemplicity",
      "photoUrl": "https://lh3.googleusercontent.com/a-/AOh14Gj2vCFt-bD5mPBhUWX0QA6xiBgoXQXtwUm2jgjaCg=s64",
      "userId": "10668071569687886186"
     },
     "user_tz": 240
    },
    "id": "jEw2Gw_hu7Fo"
   },
   "outputs": [
    {
     "data": {
      "text/plain": [
       "119       178.102997\n",
       "122       199.259995\n",
       "121       208.097000\n",
       "120       209.843994\n",
       "123       210.339004\n",
       "            ...     \n",
       "2382    58917.691410\n",
       "2383    58918.832030\n",
       "2384    59095.808590\n",
       "2366    59302.316410\n",
       "2365    61243.085940\n",
       "Name: BTC-USD Price, Length: 2385, dtype: float64"
      ]
     },
     "execution_count": 59,
     "metadata": {},
     "output_type": "execute_result"
    }
   ],
   "source": "# Note that now the change (ordering) took place "
  },
  {
   "cell_type": "code",
   "execution_count": 61,
   "metadata": {
    "executionInfo": {
     "elapsed": 3410,
     "status": "aborted",
     "timestamp": 1618858275578,
     "user": {
      "displayName": "Stemplicity",
      "photoUrl": "https://lh3.googleusercontent.com/a-/AOh14Gj2vCFt-bD5mPBhUWX0QA6xiBgoXQXtwUm2jgjaCg=s64",
      "userId": "10668071569687886186"
     },
     "user_tz": 240
    },
    "id": "6wi0QnU5iGk8"
   },
   "outputs": [
    {
     "data": {
      "text/plain": [
       "0         457.334015\n",
       "1         424.440002\n",
       "2         394.795990\n",
       "3         408.903992\n",
       "4         398.821014\n",
       "            ...     \n",
       "2380    55950.746090\n",
       "2381    57750.199220\n",
       "2382    58917.691410\n",
       "2383    58918.832030\n",
       "2384    59095.808590\n",
       "Name: BTC-USD Price, Length: 2385, dtype: float64"
      ]
     },
     "execution_count": 61,
     "metadata": {},
     "output_type": "execute_result"
    }
   ],
   "source": [
    "# Notice that the indexes are now changed \n",
    "# You can also sort by index (revert back to the original Pandas Series) as follows: "
   ]
  },
  {
   "cell_type": "markdown",
   "metadata": {
    "id": "7bV_Yaq46ZTg"
   },
   "source": [
    "**MINI CHALLENGE #8:**\n",
    "- **Sort the BTC_price_series values in a decending order instead. Make sure to update values in-memory.**"
   ]
  },
  {
   "cell_type": "code",
   "execution_count": 62,
   "metadata": {
    "executionInfo": {
     "elapsed": 3408,
     "status": "aborted",
     "timestamp": 1618858275578,
     "user": {
      "displayName": "Stemplicity",
      "photoUrl": "https://lh3.googleusercontent.com/a-/AOh14Gj2vCFt-bD5mPBhUWX0QA6xiBgoXQXtwUm2jgjaCg=s64",
      "userId": "10668071569687886186"
     },
     "user_tz": 240
    },
    "id": "zw0acoYEkDJB"
   },
   "outputs": [
    {
     "data": {
      "text/plain": [
       "2365    61243.085940\n",
       "2366    59302.316410\n",
       "2384    59095.808590\n",
       "2383    58918.832030\n",
       "2382    58917.691410\n",
       "            ...     \n",
       "123       210.339004\n",
       "120       209.843994\n",
       "121       208.097000\n",
       "122       199.259995\n",
       "119       178.102997\n",
       "Name: BTC-USD Price, Length: 2385, dtype: float64"
      ]
     },
     "execution_count": 62,
     "metadata": {},
     "output_type": "execute_result"
    }
   ],
   "source": ""
  },
  {
   "cell_type": "markdown",
   "metadata": {
    "id": "1QT7bBFCkDhh"
   },
   "source": [
    "# TASK #9. PERFORM MATH OPERATIONS ON PANDAS SERIES"
   ]
  },
  {
   "cell_type": "code",
   "execution_count": 41,
   "metadata": {
    "executionInfo": {
     "elapsed": 3400,
     "status": "aborted",
     "timestamp": 1618858275579,
     "user": {
      "displayName": "Stemplicity",
      "photoUrl": "https://lh3.googleusercontent.com/a-/AOh14Gj2vCFt-bD5mPBhUWX0QA6xiBgoXQXtwUm2jgjaCg=s64",
      "userId": "10668071569687886186"
     },
     "user_tz": 240
    },
    "id": "UXFGCV4SkI4O"
   },
   "outputs": [
    {
     "data": {
      "text/plain": [
       "0         457.334015\n",
       "1         424.440002\n",
       "2         394.795990\n",
       "3         408.903992\n",
       "4         398.821014\n",
       "            ...     \n",
       "2380    55950.746090\n",
       "2381    57750.199220\n",
       "2382    58917.691410\n",
       "2383    58918.832030\n",
       "2384    59095.808590\n",
       "Name: BTC-USD Price, Length: 2385, dtype: float64"
      ]
     },
     "execution_count": 41,
     "metadata": {},
     "output_type": "execute_result"
    }
   ],
   "source": [
    "# Let's import CSV data as follows:\n"
   ]
  },
  {
   "cell_type": "code",
   "execution_count": 42,
   "metadata": {
    "executionInfo": {
     "elapsed": 3391,
     "status": "aborted",
     "timestamp": 1618858275579,
     "user": {
      "displayName": "Stemplicity",
      "photoUrl": "https://lh3.googleusercontent.com/a-/AOh14Gj2vCFt-bD5mPBhUWX0QA6xiBgoXQXtwUm2jgjaCg=s64",
      "userId": "10668071569687886186"
     },
     "user_tz": 240
    },
    "id": "Qpo7M9yYkJPQ"
   },
   "outputs": [
    {
     "data": {
      "text/plain": [
       "15435379.738852698"
      ]
     },
     "execution_count": 42,
     "metadata": {},
     "output_type": "execute_result"
    }
   ],
   "source": [
    "# Apply Sum Method on Pandas Series\n"
   ]
  },
  {
   "cell_type": "code",
   "execution_count": 43,
   "metadata": {
    "executionInfo": {
     "elapsed": 3383,
     "status": "aborted",
     "timestamp": 1618858275580,
     "user": {
      "displayName": "Stemplicity",
      "photoUrl": "https://lh3.googleusercontent.com/a-/AOh14Gj2vCFt-bD5mPBhUWX0QA6xiBgoXQXtwUm2jgjaCg=s64",
      "userId": "10668071569687886186"
     },
     "user_tz": 240
    },
    "id": "FTSaQpjokJSM"
   },
   "outputs": [
    {
     "data": {
      "text/plain": [
       "2385"
      ]
     },
     "execution_count": 43,
     "metadata": {},
     "output_type": "execute_result"
    }
   ],
   "source": [
    "# Apply count Method on Pandas Series\n"
   ]
  },
  {
   "cell_type": "code",
   "execution_count": 44,
   "metadata": {
    "executionInfo": {
     "elapsed": 3374,
     "status": "aborted",
     "timestamp": 1618858275580,
     "user": {
      "displayName": "Stemplicity",
      "photoUrl": "https://lh3.googleusercontent.com/a-/AOh14Gj2vCFt-bD5mPBhUWX0QA6xiBgoXQXtwUm2jgjaCg=s64",
      "userId": "10668071569687886186"
     },
     "user_tz": 240
    },
    "id": "I8vVnB_5kj7C"
   },
   "outputs": [
    {
     "data": {
      "text/plain": [
       "61243.08594"
      ]
     },
     "execution_count": 44,
     "metadata": {},
     "output_type": "execute_result"
    }
   ],
   "source": [
    "# Obtain the maximum value\n"
   ]
  },
  {
   "cell_type": "code",
   "execution_count": 45,
   "metadata": {
    "executionInfo": {
     "elapsed": 3366,
     "status": "aborted",
     "timestamp": 1618858275581,
     "user": {
      "displayName": "Stemplicity",
      "photoUrl": "https://lh3.googleusercontent.com/a-/AOh14Gj2vCFt-bD5mPBhUWX0QA6xiBgoXQXtwUm2jgjaCg=s64",
      "userId": "10668071569687886186"
     },
     "user_tz": 240
    },
    "id": "u3-XBu-vko2y"
   },
   "outputs": [
    {
     "data": {
      "text/plain": [
       "178.1029968"
      ]
     },
     "execution_count": 45,
     "metadata": {},
     "output_type": "execute_result"
    }
   ],
   "source": [
    "# Obtain the minimum value\n"
   ]
  },
  {
   "cell_type": "code",
   "execution_count": 46,
   "metadata": {
    "executionInfo": {
     "elapsed": 3357,
     "status": "aborted",
     "timestamp": 1618858275582,
     "user": {
      "displayName": "Stemplicity",
      "photoUrl": "https://lh3.googleusercontent.com/a-/AOh14Gj2vCFt-bD5mPBhUWX0QA6xiBgoXQXtwUm2jgjaCg=s64",
      "userId": "10668071569687886186"
     },
     "user_tz": 240
    },
    "id": "jfaK3BsckvAK"
   },
   "outputs": [
    {
     "data": {
      "text/plain": [
       "count     2385.000000\n",
       "mean      6471.857333\n",
       "std       9289.022505\n",
       "min        178.102997\n",
       "25%        454.618988\n",
       "50%       4076.632568\n",
       "75%       8864.766602\n",
       "max      61243.085940\n",
       "Name: BTC-USD Price, dtype: float64"
      ]
     },
     "execution_count": 46,
     "metadata": {},
     "output_type": "execute_result"
    }
   ],
   "source": [
    "# My favourite: Describe! \n",
    "# Describe is used to obtain all statistical information in one place \n"
   ]
  },
  {
   "cell_type": "markdown",
   "metadata": {
    "id": "wfpnZiwxk1cb"
   },
   "source": [
    "**MINI CHALLENGE #9:**\n",
    "- **Obtain the average price of the BTC_price_series using two different methods**"
   ]
  },
  {
   "cell_type": "code",
   "execution_count": null,
   "metadata": {
    "executionInfo": {
     "elapsed": 3355,
     "status": "aborted",
     "timestamp": 1618858275582,
     "user": {
      "displayName": "Stemplicity",
      "photoUrl": "https://lh3.googleusercontent.com/a-/AOh14Gj2vCFt-bD5mPBhUWX0QA6xiBgoXQXtwUm2jgjaCg=s64",
      "userId": "10668071569687886186"
     },
     "user_tz": 240
    },
    "id": "MFL9i8NWlIH5"
   },
   "outputs": [],
   "source": []
  },
  {
   "cell_type": "markdown",
   "metadata": {
    "id": "Yi8uUb_eiqxo"
   },
   "source": [
    "# TASK #10. CHECK IF A GIVEN ELEMENT EXISTS IN A PANDAS SERIES"
   ]
  },
  {
   "cell_type": "code",
   "execution_count": 47,
   "metadata": {
    "executionInfo": {
     "elapsed": 3347,
     "status": "aborted",
     "timestamp": 1618858275583,
     "user": {
      "displayName": "Stemplicity",
      "photoUrl": "https://lh3.googleusercontent.com/a-/AOh14Gj2vCFt-bD5mPBhUWX0QA6xiBgoXQXtwUm2jgjaCg=s64",
      "userId": "10668071569687886186"
     },
     "user_tz": 240
    },
    "id": "nEQ94a2RiuiR"
   },
   "outputs": [
    {
     "data": {
      "text/plain": [
       "0         457.334015\n",
       "1         424.440002\n",
       "2         394.795990\n",
       "3         408.903992\n",
       "4         398.821014\n",
       "            ...     \n",
       "2380    55950.746090\n",
       "2381    57750.199220\n",
       "2382    58917.691410\n",
       "2383    58918.832030\n",
       "2384    59095.808590\n",
       "Name: BTC-USD Price, Length: 2385, dtype: float64"
      ]
     },
     "execution_count": 47,
     "metadata": {},
     "output_type": "execute_result"
    }
   ],
   "source": [
    "# Let's import CSV data as follows:\n"
   ]
  },
  {
   "cell_type": "code",
   "execution_count": 48,
   "metadata": {
    "executionInfo": {
     "elapsed": 3339,
     "status": "aborted",
     "timestamp": 1618858275584,
     "user": {
      "displayName": "Stemplicity",
      "photoUrl": "https://lh3.googleusercontent.com/a-/AOh14Gj2vCFt-bD5mPBhUWX0QA6xiBgoXQXtwUm2jgjaCg=s64",
      "userId": "10668071569687886186"
     },
     "user_tz": 240
    },
    "id": "x0T4h0CWi-p7"
   },
   "outputs": [
    {
     "data": {
      "text/plain": [
       "False"
      ]
     },
     "execution_count": 48,
     "metadata": {},
     "output_type": "execute_result"
    }
   ],
   "source": [
    "# Check if a given number exists in a Pandas Series values\n",
    "# Returns a boolean \"True\" or \"False\"\n"
   ]
  },
  {
   "cell_type": "code",
   "execution_count": 49,
   "metadata": {
    "executionInfo": {
     "elapsed": 3323,
     "status": "aborted",
     "timestamp": 1618858275584,
     "user": {
      "displayName": "Stemplicity",
      "photoUrl": "https://lh3.googleusercontent.com/a-/AOh14Gj2vCFt-bD5mPBhUWX0QA6xiBgoXQXtwUm2jgjaCg=s64",
      "userId": "10668071569687886186"
     },
     "user_tz": 240
    },
    "id": "xa7GXwbhi-sh"
   },
   "outputs": [
    {
     "data": {
      "text/plain": [
       "True"
      ]
     },
     "execution_count": 49,
     "metadata": {},
     "output_type": "execute_result"
    }
   ],
   "source": [
    "# Check if a given number exists in a Pandas Series index\n"
   ]
  },
  {
   "cell_type": "code",
   "execution_count": 50,
   "metadata": {
    "executionInfo": {
     "elapsed": 3317,
     "status": "aborted",
     "timestamp": 1618858275587,
     "user": {
      "displayName": "Stemplicity",
      "photoUrl": "https://lh3.googleusercontent.com/a-/AOh14Gj2vCFt-bD5mPBhUWX0QA6xiBgoXQXtwUm2jgjaCg=s64",
      "userId": "10668071569687886186"
     },
     "user_tz": 240
    },
    "id": "GyN5iG1ki-vC"
   },
   "outputs": [
    {
     "data": {
      "text/plain": [
       "True"
      ]
     },
     "execution_count": 50,
     "metadata": {},
     "output_type": "execute_result"
    }
   ],
   "source": [
    "# Note that by default 'in' will search in Pandas index and not values\n"
   ]
  },
  {
   "cell_type": "markdown",
   "metadata": {
    "id": "DjNoVv5vb9ij"
   },
   "source": [
    "**MINI CHALLENGE #10:**\n",
    "- **Check if the stock price 399 exists in the BTC_price_series Pandas Series or not**\n",
    "- **Round stock prices to the nearest integer and check again**"
   ]
  },
  {
   "cell_type": "code",
   "execution_count": null,
   "metadata": {
    "executionInfo": {
     "elapsed": 3315,
     "status": "aborted",
     "timestamp": 1618858275588,
     "user": {
      "displayName": "Stemplicity",
      "photoUrl": "https://lh3.googleusercontent.com/a-/AOh14Gj2vCFt-bD5mPBhUWX0QA6xiBgoXQXtwUm2jgjaCg=s64",
      "userId": "10668071569687886186"
     },
     "user_tz": 240
    },
    "id": "3BYcu1gpb_Vo"
   },
   "outputs": [],
   "source": []
  },
  {
   "cell_type": "code",
   "execution_count": null,
   "metadata": {},
   "outputs": [],
   "source": []
  },
  {
   "metadata": {},
   "cell_type": "markdown",
   "source": "# EXCELLENT JOB!"
  }
 ],
 "metadata": {
  "colab": {
   "authorship_tag": "ABX9TyP9Y/XANKrtczPMhh6Kukca",
   "collapsed_sections": [],
   "name": "1. Pandas Fundamentals - Series.ipynb",
   "provenance": [],
   "toc_visible": true
  },
  "kernelspec": {
   "display_name": "Python 3 (ipykernel)",
   "language": "python",
   "name": "python3"
  },
  "language_info": {
   "codemirror_mode": {
    "name": "ipython",
    "version": 3
   },
   "file_extension": ".py",
   "mimetype": "text/x-python",
   "name": "python",
   "nbconvert_exporter": "python",
   "pygments_lexer": "ipython3",
   "version": "3.10.6"
  }
 },
 "nbformat": 4,
 "nbformat_minor": 1
}
